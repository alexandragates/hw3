{
 "cells": [
  {
   "cell_type": "markdown",
   "metadata": {
    "scrolled": false
   },
   "source": [
    "Alexandra Gates"
   ]
  },
  {
   "cell_type": "markdown",
   "metadata": {},
   "source": [
    "## Libraries"
   ]
  },
  {
   "cell_type": "code",
   "execution_count": 1,
   "metadata": {},
   "outputs": [],
   "source": [
    "import pandas as pd\n",
    "import numpy as np\n",
    "import datetime\n",
    "import re\n",
    "import os\n",
    "import matplotlib.pyplot\n",
    "from sklearn import svm\n",
    "from sklearn.linear_model import LassoCV\n",
    "from sklearn.linear_model import RidgeCV\n",
    "from sklearn import linear_model\n",
    "from sklearn.metrics import accuracy_score, roc_auc_score, precision_recall_fscore_support\n",
    "from sklearn import metrics\n",
    "from sklearn import tree\n",
    "from sklearn.pipeline import Pipeline\n",
    "from sklearn.preprocessing import StandardScaler\n",
    "from sklearn import ensemble \n",
    "from sklearn import neighbors\n",
    "from sklearn.linear_model import LassoCV\n",
    "from sklearn.linear_model import RidgeCV\n",
    "import seaborn as sns\n",
    "import functools\n",
    "get_ipython().magic('matplotlib inline')\n",
    "import pipeline"
   ]
  },
  {
   "cell_type": "markdown",
   "metadata": {},
   "source": [
    "## Get Data"
   ]
  },
  {
   "cell_type": "code",
   "execution_count": 2,
   "metadata": {},
   "outputs": [],
   "source": [
    "outcomes_df = pipeline.get_data('data/outcomes.csv', 'csv')\n",
    "projects_df = pipeline.get_data('data/projects.csv', 'csv')"
   ]
  },
  {
   "cell_type": "markdown",
   "metadata": {},
   "source": [
    "Combine the two dataframes on project_id."
   ]
  },
  {
   "cell_type": "code",
   "execution_count": 3,
   "metadata": {},
   "outputs": [],
   "source": [
    "df = pd.merge(projects_df, outcomes_df, on='projectid', how=\"inner\")"
   ]
  },
  {
   "cell_type": "markdown",
   "metadata": {},
   "source": [
    "### Predictor\n",
    "Make the predictor, then identify columns to ignore that includes the predictor and create a dataframe without the predictor"
   ]
  },
  {
   "cell_type": "code",
   "execution_count": 4,
   "metadata": {},
   "outputs": [],
   "source": [
    "predictor = 'fully_funded'\n",
    "ignore_with_predictor = ['teacher_acctid', 'schoolid', 'school_ncesid', predictor]"
   ]
  },
  {
   "cell_type": "markdown",
   "metadata": {},
   "source": [
    "Now identify columns to ignore for some functions without the final predictor and create the dataframe without those instead"
   ]
  },
  {
   "cell_type": "code",
   "execution_count": 5,
   "metadata": {},
   "outputs": [],
   "source": [
    "#ignore_without_predictor = ['teacher_acctid', 'schoolid', 'school_ncesid']"
   ]
  },
  {
   "cell_type": "markdown",
   "metadata": {},
   "source": [
    "## Datatypes, T/F, and NAs\n",
    "### Find datatypes\n",
    "commented out here so as not to take up space"
   ]
  },
  {
   "cell_type": "code",
   "execution_count": 6,
   "metadata": {},
   "outputs": [],
   "source": [
    "datatypes = df.dtypes\n",
    "#print(datatypes)"
   ]
  },
  {
   "cell_type": "code",
   "execution_count": 7,
   "metadata": {},
   "outputs": [],
   "source": [
    "df['date_posted'] = pd.to_datetime(df['date_posted'])"
   ]
  },
  {
   "cell_type": "markdown",
   "metadata": {},
   "source": [
    "### Change boolean columns to 1 or 0\n",
    "only doing head so as not to take up too much space"
   ]
  },
  {
   "cell_type": "code",
   "execution_count": 8,
   "metadata": {},
   "outputs": [
    {
     "data": {
      "text/html": [
       "<div>\n",
       "<style scoped>\n",
       "    .dataframe tbody tr th:only-of-type {\n",
       "        vertical-align: middle;\n",
       "    }\n",
       "\n",
       "    .dataframe tbody tr th {\n",
       "        vertical-align: top;\n",
       "    }\n",
       "\n",
       "    .dataframe thead th {\n",
       "        text-align: right;\n",
       "    }\n",
       "</style>\n",
       "<table border=\"1\" class=\"dataframe\">\n",
       "  <thead>\n",
       "    <tr style=\"text-align: right;\">\n",
       "      <th></th>\n",
       "      <th>projectid</th>\n",
       "      <th>teacher_acctid</th>\n",
       "      <th>schoolid</th>\n",
       "      <th>school_ncesid</th>\n",
       "      <th>school_latitude</th>\n",
       "      <th>school_longitude</th>\n",
       "      <th>school_city</th>\n",
       "      <th>school_state</th>\n",
       "      <th>school_zip</th>\n",
       "      <th>school_metro</th>\n",
       "      <th>...</th>\n",
       "      <th>at_least_1_teacher_referred_donor</th>\n",
       "      <th>fully_funded</th>\n",
       "      <th>at_least_1_green_donation</th>\n",
       "      <th>great_chat</th>\n",
       "      <th>three_or_more_non_teacher_referred_donors</th>\n",
       "      <th>one_non_teacher_referred_donor_giving_100_plus</th>\n",
       "      <th>donation_from_thoughtful_donor</th>\n",
       "      <th>great_messages_proportion</th>\n",
       "      <th>teacher_referred_count</th>\n",
       "      <th>non_teacher_referred_count</th>\n",
       "    </tr>\n",
       "  </thead>\n",
       "  <tbody>\n",
       "    <tr>\n",
       "      <th>0</th>\n",
       "      <td>62526d85d2a1818432d03d600969e99c</td>\n",
       "      <td>ebc7c90b6c92a069432e0714b8d93dfd</td>\n",
       "      <td>5aca9711ff0e4b37db48701f46f73036</td>\n",
       "      <td>1.713710e+11</td>\n",
       "      <td>41.972419</td>\n",
       "      <td>-88.174597</td>\n",
       "      <td>Bartlett</td>\n",
       "      <td>IL</td>\n",
       "      <td>60103</td>\n",
       "      <td>suburban</td>\n",
       "      <td>...</td>\n",
       "      <td>0.0</td>\n",
       "      <td>1</td>\n",
       "      <td>0.0</td>\n",
       "      <td>1</td>\n",
       "      <td>1.0</td>\n",
       "      <td>1.0</td>\n",
       "      <td>0.0</td>\n",
       "      <td>80.0</td>\n",
       "      <td>0.0</td>\n",
       "      <td>6.0</td>\n",
       "    </tr>\n",
       "    <tr>\n",
       "      <th>1</th>\n",
       "      <td>33d59ac771b80222ad63ef0f4ac47ade</td>\n",
       "      <td>de83b4c1f6428a15032c207c1d5e572a</td>\n",
       "      <td>d91a805b213bf74ae77b94e0de2b73ad</td>\n",
       "      <td>1.601530e+11</td>\n",
       "      <td>43.501154</td>\n",
       "      <td>-112.056780</td>\n",
       "      <td>Idaho Falls</td>\n",
       "      <td>ID</td>\n",
       "      <td>83402</td>\n",
       "      <td>urban</td>\n",
       "      <td>...</td>\n",
       "      <td>NaN</td>\n",
       "      <td>0</td>\n",
       "      <td>NaN</td>\n",
       "      <td>0</td>\n",
       "      <td>NaN</td>\n",
       "      <td>NaN</td>\n",
       "      <td>NaN</td>\n",
       "      <td>NaN</td>\n",
       "      <td>NaN</td>\n",
       "      <td>NaN</td>\n",
       "    </tr>\n",
       "    <tr>\n",
       "      <th>2</th>\n",
       "      <td>1a3aaeffc56dd2a421e37d8298024c0a</td>\n",
       "      <td>f4c9ed095b85458dcf858e25f203af00</td>\n",
       "      <td>9310d3eb447a4e46bc5fc31ed007ceac</td>\n",
       "      <td>3.302610e+11</td>\n",
       "      <td>42.888244</td>\n",
       "      <td>-71.320224</td>\n",
       "      <td>Derry</td>\n",
       "      <td>NH</td>\n",
       "      <td>3038</td>\n",
       "      <td>suburban</td>\n",
       "      <td>...</td>\n",
       "      <td>0.0</td>\n",
       "      <td>0</td>\n",
       "      <td>1.0</td>\n",
       "      <td>0</td>\n",
       "      <td>0.0</td>\n",
       "      <td>0.0</td>\n",
       "      <td>0.0</td>\n",
       "      <td>NaN</td>\n",
       "      <td>0.0</td>\n",
       "      <td>2.0</td>\n",
       "    </tr>\n",
       "    <tr>\n",
       "      <th>3</th>\n",
       "      <td>33aa19ee4da4c5adf47d0dfb84fab5ef</td>\n",
       "      <td>17768031eb40de8d4497dbb54df48742</td>\n",
       "      <td>9ac70da58322783f82152eecc140a812</td>\n",
       "      <td>5.103240e+11</td>\n",
       "      <td>37.476158</td>\n",
       "      <td>-77.488397</td>\n",
       "      <td>Richmond</td>\n",
       "      <td>VA</td>\n",
       "      <td>23224</td>\n",
       "      <td>urban</td>\n",
       "      <td>...</td>\n",
       "      <td>0.0</td>\n",
       "      <td>0</td>\n",
       "      <td>1.0</td>\n",
       "      <td>0</td>\n",
       "      <td>0.0</td>\n",
       "      <td>0.0</td>\n",
       "      <td>0.0</td>\n",
       "      <td>NaN</td>\n",
       "      <td>0.0</td>\n",
       "      <td>1.0</td>\n",
       "    </tr>\n",
       "    <tr>\n",
       "      <th>4</th>\n",
       "      <td>e31c0ea8b68f404699dfb0d39e9bc99b</td>\n",
       "      <td>0f1bc5b4700fd33383be104442660178</td>\n",
       "      <td>cb9f688cf59e3ee22a087d616ca8f5d7</td>\n",
       "      <td>1.709930e+11</td>\n",
       "      <td>41.952851</td>\n",
       "      <td>-87.650233</td>\n",
       "      <td>Chicago</td>\n",
       "      <td>IL</td>\n",
       "      <td>60613</td>\n",
       "      <td>urban</td>\n",
       "      <td>...</td>\n",
       "      <td>0.0</td>\n",
       "      <td>1</td>\n",
       "      <td>1.0</td>\n",
       "      <td>0</td>\n",
       "      <td>0.0</td>\n",
       "      <td>1.0</td>\n",
       "      <td>0.0</td>\n",
       "      <td>50.0</td>\n",
       "      <td>0.0</td>\n",
       "      <td>2.0</td>\n",
       "    </tr>\n",
       "  </tbody>\n",
       "</table>\n",
       "<p>5 rows × 46 columns</p>\n",
       "</div>"
      ],
      "text/plain": [
       "                          projectid                    teacher_acctid  \\\n",
       "0  62526d85d2a1818432d03d600969e99c  ebc7c90b6c92a069432e0714b8d93dfd   \n",
       "1  33d59ac771b80222ad63ef0f4ac47ade  de83b4c1f6428a15032c207c1d5e572a   \n",
       "2  1a3aaeffc56dd2a421e37d8298024c0a  f4c9ed095b85458dcf858e25f203af00   \n",
       "3  33aa19ee4da4c5adf47d0dfb84fab5ef  17768031eb40de8d4497dbb54df48742   \n",
       "4  e31c0ea8b68f404699dfb0d39e9bc99b  0f1bc5b4700fd33383be104442660178   \n",
       "\n",
       "                           schoolid  school_ncesid  school_latitude  \\\n",
       "0  5aca9711ff0e4b37db48701f46f73036   1.713710e+11        41.972419   \n",
       "1  d91a805b213bf74ae77b94e0de2b73ad   1.601530e+11        43.501154   \n",
       "2  9310d3eb447a4e46bc5fc31ed007ceac   3.302610e+11        42.888244   \n",
       "3  9ac70da58322783f82152eecc140a812   5.103240e+11        37.476158   \n",
       "4  cb9f688cf59e3ee22a087d616ca8f5d7   1.709930e+11        41.952851   \n",
       "\n",
       "   school_longitude  school_city school_state  school_zip school_metro  \\\n",
       "0        -88.174597     Bartlett           IL       60103     suburban   \n",
       "1       -112.056780  Idaho Falls           ID       83402        urban   \n",
       "2        -71.320224        Derry           NH        3038     suburban   \n",
       "3        -77.488397     Richmond           VA       23224        urban   \n",
       "4        -87.650233      Chicago           IL       60613        urban   \n",
       "\n",
       "              ...             at_least_1_teacher_referred_donor fully_funded  \\\n",
       "0             ...                                           0.0            1   \n",
       "1             ...                                           NaN            0   \n",
       "2             ...                                           0.0            0   \n",
       "3             ...                                           0.0            0   \n",
       "4             ...                                           0.0            1   \n",
       "\n",
       "   at_least_1_green_donation  great_chat  \\\n",
       "0                        0.0           1   \n",
       "1                        NaN           0   \n",
       "2                        1.0           0   \n",
       "3                        1.0           0   \n",
       "4                        1.0           0   \n",
       "\n",
       "   three_or_more_non_teacher_referred_donors  \\\n",
       "0                                        1.0   \n",
       "1                                        NaN   \n",
       "2                                        0.0   \n",
       "3                                        0.0   \n",
       "4                                        0.0   \n",
       "\n",
       "   one_non_teacher_referred_donor_giving_100_plus  \\\n",
       "0                                             1.0   \n",
       "1                                             NaN   \n",
       "2                                             0.0   \n",
       "3                                             0.0   \n",
       "4                                             1.0   \n",
       "\n",
       "   donation_from_thoughtful_donor  great_messages_proportion  \\\n",
       "0                             0.0                       80.0   \n",
       "1                             NaN                        NaN   \n",
       "2                             0.0                        NaN   \n",
       "3                             0.0                        NaN   \n",
       "4                             0.0                       50.0   \n",
       "\n",
       "  teacher_referred_count  non_teacher_referred_count  \n",
       "0                    0.0                         6.0  \n",
       "1                    NaN                         NaN  \n",
       "2                    0.0                         2.0  \n",
       "3                    0.0                         1.0  \n",
       "4                    0.0                         2.0  \n",
       "\n",
       "[5 rows x 46 columns]"
      ]
     },
     "execution_count": 8,
     "metadata": {},
     "output_type": "execute_result"
    }
   ],
   "source": [
    "df = pipeline.change_to_one_zero(df, 't', 'f')\n",
    "df.head()"
   ]
  },
  {
   "cell_type": "markdown",
   "metadata": {},
   "source": [
    "### Find columns with NAs and handle them"
   ]
  },
  {
   "cell_type": "code",
   "execution_count": 9,
   "metadata": {},
   "outputs": [],
   "source": [
    "are_there_nas = pipeline.find_nas(df)"
   ]
  },
  {
   "cell_type": "markdown",
   "metadata": {},
   "source": [
    "Make a list of the columns that have NAs in them."
   ]
  },
  {
   "cell_type": "code",
   "execution_count": 10,
   "metadata": {},
   "outputs": [],
   "source": [
    "cols_with_nas = pipeline.cols_with_nas(are_there_nas)"
   ]
  },
  {
   "cell_type": "markdown",
   "metadata": {},
   "source": [
    "## Create binary/dummy variables from categorical variable\n",
    "Chose to do dummify columns that had less than 100 options to simplify issues"
   ]
  },
  {
   "cell_type": "code",
   "execution_count": 11,
   "metadata": {},
   "outputs": [],
   "source": [
    "object_cols = list(df.select_dtypes(include=['object']).columns)\n",
    "\n",
    "df = pipeline.dummify_categories(df, cols_with_nas, object_cols, ignore_with_predictor)"
   ]
  },
  {
   "cell_type": "markdown",
   "metadata": {},
   "source": [
    "Find the cols with nas... again"
   ]
  },
  {
   "cell_type": "code",
   "execution_count": 12,
   "metadata": {},
   "outputs": [],
   "source": [
    "are_there_nas2 = pipeline.find_nas(df)\n",
    "cols_with_nas2 = pipeline.cols_with_nas(are_there_nas2)"
   ]
  },
  {
   "cell_type": "markdown",
   "metadata": {},
   "source": [
    "Fill NAs! <br>\n",
    "options for dataframes: cred_df_no_outliers, cred_df_less_outliers, cred_df <br>\n",
    "options for stat: mean or medians"
   ]
  },
  {
   "cell_type": "code",
   "execution_count": 13,
   "metadata": {},
   "outputs": [
    {
     "name": "stdout",
     "output_type": "stream",
     "text": [
      "use only mean, median, or mode for stat\n",
      "use only mean, median, or mode for stat\n",
      "use only mean, median, or mode for stat\n",
      "use only mean, median, or mode for stat\n",
      "use only mean, median, or mode for stat\n",
      "use only mean, median, or mode for stat\n",
      "use only mean, median, or mode for stat\n",
      "use only mean, median, or mode for stat\n"
     ]
    },
    {
     "data": {
      "text/html": [
       "<div>\n",
       "<style scoped>\n",
       "    .dataframe tbody tr th:only-of-type {\n",
       "        vertical-align: middle;\n",
       "    }\n",
       "\n",
       "    .dataframe tbody tr th {\n",
       "        vertical-align: top;\n",
       "    }\n",
       "\n",
       "    .dataframe thead th {\n",
       "        text-align: right;\n",
       "    }\n",
       "</style>\n",
       "<table border=\"1\" class=\"dataframe\">\n",
       "  <thead>\n",
       "    <tr style=\"text-align: right;\">\n",
       "      <th></th>\n",
       "      <th>projectid</th>\n",
       "      <th>teacher_acctid</th>\n",
       "      <th>schoolid</th>\n",
       "      <th>school_ncesid</th>\n",
       "      <th>school_latitude</th>\n",
       "      <th>school_longitude</th>\n",
       "      <th>school_city</th>\n",
       "      <th>school_state</th>\n",
       "      <th>school_zip</th>\n",
       "      <th>school_metro</th>\n",
       "      <th>...</th>\n",
       "      <th>resource_type_Books</th>\n",
       "      <th>resource_type_Other</th>\n",
       "      <th>resource_type_Supplies</th>\n",
       "      <th>resource_type_Technology</th>\n",
       "      <th>resource_type_Trips</th>\n",
       "      <th>resource_type_Visitors</th>\n",
       "      <th>grade_level_Grades 3-5</th>\n",
       "      <th>grade_level_Grades 6-8</th>\n",
       "      <th>grade_level_Grades 9-12</th>\n",
       "      <th>grade_level_Grades PreK-2</th>\n",
       "    </tr>\n",
       "  </thead>\n",
       "  <tbody>\n",
       "    <tr>\n",
       "      <th>0</th>\n",
       "      <td>62526d85d2a1818432d03d600969e99c</td>\n",
       "      <td>ebc7c90b6c92a069432e0714b8d93dfd</td>\n",
       "      <td>5aca9711ff0e4b37db48701f46f73036</td>\n",
       "      <td>1.713710e+11</td>\n",
       "      <td>41.972419</td>\n",
       "      <td>-88.174597</td>\n",
       "      <td>Bartlett</td>\n",
       "      <td>IL</td>\n",
       "      <td>60103</td>\n",
       "      <td>suburban</td>\n",
       "      <td>...</td>\n",
       "      <td>0</td>\n",
       "      <td>1</td>\n",
       "      <td>0</td>\n",
       "      <td>0</td>\n",
       "      <td>0</td>\n",
       "      <td>0</td>\n",
       "      <td>1</td>\n",
       "      <td>0</td>\n",
       "      <td>0</td>\n",
       "      <td>0</td>\n",
       "    </tr>\n",
       "    <tr>\n",
       "      <th>1</th>\n",
       "      <td>33d59ac771b80222ad63ef0f4ac47ade</td>\n",
       "      <td>de83b4c1f6428a15032c207c1d5e572a</td>\n",
       "      <td>d91a805b213bf74ae77b94e0de2b73ad</td>\n",
       "      <td>1.601530e+11</td>\n",
       "      <td>43.501154</td>\n",
       "      <td>-112.056780</td>\n",
       "      <td>Idaho Falls</td>\n",
       "      <td>ID</td>\n",
       "      <td>83402</td>\n",
       "      <td>urban</td>\n",
       "      <td>...</td>\n",
       "      <td>0</td>\n",
       "      <td>0</td>\n",
       "      <td>1</td>\n",
       "      <td>0</td>\n",
       "      <td>0</td>\n",
       "      <td>0</td>\n",
       "      <td>1</td>\n",
       "      <td>0</td>\n",
       "      <td>0</td>\n",
       "      <td>0</td>\n",
       "    </tr>\n",
       "    <tr>\n",
       "      <th>2</th>\n",
       "      <td>1a3aaeffc56dd2a421e37d8298024c0a</td>\n",
       "      <td>f4c9ed095b85458dcf858e25f203af00</td>\n",
       "      <td>9310d3eb447a4e46bc5fc31ed007ceac</td>\n",
       "      <td>3.302610e+11</td>\n",
       "      <td>42.888244</td>\n",
       "      <td>-71.320224</td>\n",
       "      <td>Derry</td>\n",
       "      <td>NH</td>\n",
       "      <td>3038</td>\n",
       "      <td>suburban</td>\n",
       "      <td>...</td>\n",
       "      <td>0</td>\n",
       "      <td>0</td>\n",
       "      <td>0</td>\n",
       "      <td>1</td>\n",
       "      <td>0</td>\n",
       "      <td>0</td>\n",
       "      <td>0</td>\n",
       "      <td>1</td>\n",
       "      <td>0</td>\n",
       "      <td>0</td>\n",
       "    </tr>\n",
       "    <tr>\n",
       "      <th>3</th>\n",
       "      <td>33aa19ee4da4c5adf47d0dfb84fab5ef</td>\n",
       "      <td>17768031eb40de8d4497dbb54df48742</td>\n",
       "      <td>9ac70da58322783f82152eecc140a812</td>\n",
       "      <td>5.103240e+11</td>\n",
       "      <td>37.476158</td>\n",
       "      <td>-77.488397</td>\n",
       "      <td>Richmond</td>\n",
       "      <td>VA</td>\n",
       "      <td>23224</td>\n",
       "      <td>urban</td>\n",
       "      <td>...</td>\n",
       "      <td>0</td>\n",
       "      <td>1</td>\n",
       "      <td>0</td>\n",
       "      <td>0</td>\n",
       "      <td>0</td>\n",
       "      <td>0</td>\n",
       "      <td>0</td>\n",
       "      <td>0</td>\n",
       "      <td>0</td>\n",
       "      <td>1</td>\n",
       "    </tr>\n",
       "    <tr>\n",
       "      <th>4</th>\n",
       "      <td>e31c0ea8b68f404699dfb0d39e9bc99b</td>\n",
       "      <td>0f1bc5b4700fd33383be104442660178</td>\n",
       "      <td>cb9f688cf59e3ee22a087d616ca8f5d7</td>\n",
       "      <td>1.709930e+11</td>\n",
       "      <td>41.952851</td>\n",
       "      <td>-87.650233</td>\n",
       "      <td>Chicago</td>\n",
       "      <td>IL</td>\n",
       "      <td>60613</td>\n",
       "      <td>urban</td>\n",
       "      <td>...</td>\n",
       "      <td>0</td>\n",
       "      <td>0</td>\n",
       "      <td>1</td>\n",
       "      <td>0</td>\n",
       "      <td>0</td>\n",
       "      <td>0</td>\n",
       "      <td>0</td>\n",
       "      <td>1</td>\n",
       "      <td>0</td>\n",
       "      <td>0</td>\n",
       "    </tr>\n",
       "  </tbody>\n",
       "</table>\n",
       "<p>5 rows × 127 columns</p>\n",
       "</div>"
      ],
      "text/plain": [
       "                          projectid                    teacher_acctid  \\\n",
       "0  62526d85d2a1818432d03d600969e99c  ebc7c90b6c92a069432e0714b8d93dfd   \n",
       "1  33d59ac771b80222ad63ef0f4ac47ade  de83b4c1f6428a15032c207c1d5e572a   \n",
       "2  1a3aaeffc56dd2a421e37d8298024c0a  f4c9ed095b85458dcf858e25f203af00   \n",
       "3  33aa19ee4da4c5adf47d0dfb84fab5ef  17768031eb40de8d4497dbb54df48742   \n",
       "4  e31c0ea8b68f404699dfb0d39e9bc99b  0f1bc5b4700fd33383be104442660178   \n",
       "\n",
       "                           schoolid  school_ncesid  school_latitude  \\\n",
       "0  5aca9711ff0e4b37db48701f46f73036   1.713710e+11        41.972419   \n",
       "1  d91a805b213bf74ae77b94e0de2b73ad   1.601530e+11        43.501154   \n",
       "2  9310d3eb447a4e46bc5fc31ed007ceac   3.302610e+11        42.888244   \n",
       "3  9ac70da58322783f82152eecc140a812   5.103240e+11        37.476158   \n",
       "4  cb9f688cf59e3ee22a087d616ca8f5d7   1.709930e+11        41.952851   \n",
       "\n",
       "   school_longitude  school_city school_state  school_zip school_metro  \\\n",
       "0        -88.174597     Bartlett           IL       60103     suburban   \n",
       "1       -112.056780  Idaho Falls           ID       83402        urban   \n",
       "2        -71.320224        Derry           NH        3038     suburban   \n",
       "3        -77.488397     Richmond           VA       23224        urban   \n",
       "4        -87.650233      Chicago           IL       60613        urban   \n",
       "\n",
       "             ...             resource_type_Books resource_type_Other  \\\n",
       "0            ...                               0                   1   \n",
       "1            ...                               0                   0   \n",
       "2            ...                               0                   0   \n",
       "3            ...                               0                   1   \n",
       "4            ...                               0                   0   \n",
       "\n",
       "   resource_type_Supplies  resource_type_Technology  resource_type_Trips  \\\n",
       "0                       0                         0                    0   \n",
       "1                       1                         0                    0   \n",
       "2                       0                         1                    0   \n",
       "3                       0                         0                    0   \n",
       "4                       1                         0                    0   \n",
       "\n",
       "   resource_type_Visitors  grade_level_Grades 3-5  grade_level_Grades 6-8  \\\n",
       "0                       0                       1                       0   \n",
       "1                       0                       1                       0   \n",
       "2                       0                       0                       1   \n",
       "3                       0                       0                       0   \n",
       "4                       0                       0                       1   \n",
       "\n",
       "  grade_level_Grades 9-12  grade_level_Grades PreK-2  \n",
       "0                       0                          0  \n",
       "1                       0                          0  \n",
       "2                       0                          0  \n",
       "3                       0                          1  \n",
       "4                       0                          0  \n",
       "\n",
       "[5 rows x 127 columns]"
      ]
     },
     "execution_count": 13,
     "metadata": {},
     "output_type": "execute_result"
    }
   ],
   "source": [
    "nas_filled = pipeline.fillnas_with_data(df, 'median', cols_with_nas2, object_cols)\n",
    "nas_filled.head()"
   ]
  },
  {
   "cell_type": "markdown",
   "metadata": {},
   "source": [
    "Make sure all nas were filled"
   ]
  },
  {
   "cell_type": "code",
   "execution_count": 14,
   "metadata": {},
   "outputs": [
    {
     "data": {
      "text/plain": [
       "projectid                                       False\n",
       "teacher_acctid                                  False\n",
       "schoolid                                        False\n",
       "school_ncesid                                   False\n",
       "school_latitude                                 False\n",
       "school_longitude                                False\n",
       "school_city                                     False\n",
       "school_state                                    False\n",
       "school_zip                                      False\n",
       "school_metro                                     True\n",
       "school_district                                  True\n",
       "school_county                                   False\n",
       "school_charter                                  False\n",
       "school_magnet                                   False\n",
       "school_year_round                               False\n",
       "school_nlns                                     False\n",
       "school_kipp                                     False\n",
       "school_charter_ready_promise                    False\n",
       "teacher_prefix                                  False\n",
       "teacher_teach_for_america                       False\n",
       "teacher_ny_teaching_fellow                      False\n",
       "primary_focus_subject                            True\n",
       "primary_focus_area                               True\n",
       "secondary_focus_subject                          True\n",
       "secondary_focus_area                             True\n",
       "resource_type                                    True\n",
       "poverty_level                                   False\n",
       "grade_level                                      True\n",
       "fulfillment_labor_materials                     False\n",
       "total_price_excluding_optional_support          False\n",
       "                                                ...  \n",
       "secondary_focus_subject_History & Geography     False\n",
       "secondary_focus_subject_Literacy                False\n",
       "secondary_focus_subject_Literature & Writing    False\n",
       "secondary_focus_subject_Mathematics             False\n",
       "secondary_focus_subject_Music                   False\n",
       "secondary_focus_subject_Nutrition               False\n",
       "secondary_focus_subject_Other                   False\n",
       "secondary_focus_subject_Parent Involvement      False\n",
       "secondary_focus_subject_Performing Arts         False\n",
       "secondary_focus_subject_Social Sciences         False\n",
       "secondary_focus_subject_Special Needs           False\n",
       "secondary_focus_subject_Sports                  False\n",
       "secondary_focus_subject_Visual Arts             False\n",
       "secondary_focus_area_Applied Learning           False\n",
       "secondary_focus_area_Health & Sports            False\n",
       "secondary_focus_area_History & Civics           False\n",
       "secondary_focus_area_Literacy & Language        False\n",
       "secondary_focus_area_Math & Science             False\n",
       "secondary_focus_area_Music & The Arts           False\n",
       "secondary_focus_area_Special Needs              False\n",
       "resource_type_Books                             False\n",
       "resource_type_Other                             False\n",
       "resource_type_Supplies                          False\n",
       "resource_type_Technology                        False\n",
       "resource_type_Trips                             False\n",
       "resource_type_Visitors                          False\n",
       "grade_level_Grades 3-5                          False\n",
       "grade_level_Grades 6-8                          False\n",
       "grade_level_Grades 9-12                         False\n",
       "grade_level_Grades PreK-2                       False\n",
       "Length: 127, dtype: bool"
      ]
     },
     "execution_count": 14,
     "metadata": {},
     "output_type": "execute_result"
    }
   ],
   "source": [
    "pipeline.find_nas(df)"
   ]
  },
  {
   "cell_type": "markdown",
   "metadata": {},
   "source": [
    "## Find Correlations"
   ]
  },
  {
   "cell_type": "markdown",
   "metadata": {},
   "source": [
    "Run correlations on each of the columns to see what's going on in the data with the final predictor. <br>\n",
    "It's a little hard to read because of how many variables there are, but it's still helpful."
   ]
  },
  {
   "cell_type": "code",
   "execution_count": 15,
   "metadata": {},
   "outputs": [
    {
     "data": {
      "text/plain": [
       "<matplotlib.axes._subplots.AxesSubplot at 0x27e912662b0>"
      ]
     },
     "execution_count": 15,
     "metadata": {},
     "output_type": "execute_result"
    },
    {
     "data": {
      "image/png": "[encoded data removed]",
      "text/plain": [
       "<Figure size 432x288 with 2 Axes>"
      ]
     },
     "metadata": {},
     "output_type": "display_data"
    }
   ],
   "source": [
    "pipeline.get_correlations(df)"
   ]
  },
  {
   "cell_type": "markdown",
   "metadata": {},
   "source": [
    "## make scatter plots\n",
    "Commented this out because it takes too much time to run, but it helped me see correlations better."
   ]
  },
  {
   "cell_type": "code",
   "execution_count": 16,
   "metadata": {},
   "outputs": [],
   "source": [
    "# pipeline.make_scatter(cred_df)"
   ]
  },
  {
   "cell_type": "markdown",
   "metadata": {},
   "source": [
    "## Outliers\n",
    "Checked this and there were no rows with many (over 33% of the entires) outliers so removed to be clean."
   ]
  },
  {
   "cell_type": "markdown",
   "metadata": {},
   "source": [
    "## Features\n",
    "from here on, a lot of this code is from our project."
   ]
  },
  {
   "cell_type": "markdown",
   "metadata": {},
   "source": [
    "Get feature lists using rf, lasso, ridge"
   ]
  },
  {
   "cell_type": "code",
   "execution_count": 17,
   "metadata": {},
   "outputs": [],
   "source": [
    "exclude_types = ['object', 'datetime64[ns]']\n",
    "rf_feature_list = pipeline.rf_features(df=df, var_excl=exclude_types, y_pred=predictor)\n",
    "lasso_feature_list = pipeline.lcv_features(df=df, var_excl=exclude_types, y_pred=predictor)\n",
    "ridge_feature_list = pipeline.rcv_features(df=df, var_excl=exclude_types, y_pred=predictor)"
   ]
  },
  {
   "cell_type": "markdown",
   "metadata": {},
   "source": [
    "Analyze returned features"
   ]
  },
  {
   "cell_type": "code",
   "execution_count": 18,
   "metadata": {},
   "outputs": [
    {
     "name": "stdout",
     "output_type": "stream",
     "text": [
      "TOP 30 RF:  ['fully_funded', 'non_teacher_referred_count', 'great_messages_proportion', 'one_non_teacher_referred_donor_giving_100_plus', 'teacher_referred_count', 'three_or_more_non_teacher_referred_donors', 'is_exciting', 'total_price_including_optional_support', 'at_least_1_teacher_referred_donor', 'total_price_excluding_optional_support', 'at_least_1_green_donation', 'great_chat', 'school_latitude', 'school_longitude', 'school_zip', 'school_ncesid', 'resource_type_Technology', 'eligible_double_your_impact_match', 'students_reached', 'school_metro_urban', 'fulfillment_labor_materials', 'donation_from_thoughtful_donor', 'resource_type_Supplies', 'eligible_almost_home_match', 'grade_level_Grades 3-5', 'school_metro_rural', 'resource_type_Books', 'school_metro_suburban', 'primary_focus_subject_Environmental Science', 'grade_level_Grades PreK-2']\n",
      "LASSO NON-ZERO:  []\n",
      "RIDGE NON-ZERO:  []\n",
      "ALL THREE INTERSECTION:  []\n"
     ]
    }
   ],
   "source": [
    "rf_feature_names = [x for (x,y) in rf_feature_list]\n",
    "lasso_feature_names = [x for (x,y) in lasso_feature_list]\n",
    "ridge_feature_names = [x for (x,y) in ridge_feature_list]\n",
    "top_30 = rf_feature_names[:30]\n",
    "print(\"TOP 30 RF: \", top_30)\n",
    "print(\"LASSO NON-ZERO: \", lasso_feature_names)\n",
    "print(\"RIDGE NON-ZERO: \", ridge_feature_names)\n",
    "all_feat = list(set(rf_feature_names).intersection(rf_feature_names).intersection(lasso_feature_names))\n",
    "print (\"ALL THREE INTERSECTION: \", all_feat)"
   ]
  },
  {
   "cell_type": "markdown",
   "metadata": {},
   "source": [
    "## Generate temoral tests"
   ]
  },
  {
   "cell_type": "code",
   "execution_count": 19,
   "metadata": {},
   "outputs": [],
   "source": [
    "testing, training, times = pipeline.get_training_testing_datasets(df=df, \n",
    "                                                         time_col='date_posted', period='1M')"
   ]
  },
  {
   "cell_type": "markdown",
   "metadata": {},
   "source": [
    "## Running all clfs"
   ]
  },
  {
   "cell_type": "code",
   "execution_count": null,
   "metadata": {},
   "outputs": [],
   "source": [
    "FEATURES = top_30\n",
    "Y_COLUMN = predictor\n",
    "\n",
    "for i, test in enumerate(testing):\n",
    "    time_eval = {}\n",
    "    time_mod = {}\n",
    "    train = training[i]\n",
    "    m, e = pipeline.create_validate_clf(train_data=train, test_data=test, threshold=0.5, \n",
    "                        feature_list=FEATURES, y_column=Y_COLUMN)\n",
    "    time_eval[str(times[i])] = {'evals' : e}\n",
    "    time_mod[str(times[i])] = {'models' : m}"
   ]
  },
  {
   "cell_type": "code",
   "execution_count": null,
   "metadata": {},
   "outputs": [],
   "source": [
    "time_eval"
   ]
  }
 ],
 "metadata": {
  "kernelspec": {
   "display_name": "Python 3",
   "language": "python",
   "name": "python3"
  },
  "language_info": {
   "codemirror_mode": {
    "name": "ipython",
    "version": 3
   },
   "file_extension": ".py",
   "mimetype": "text/x-python",
   "name": "python",
   "nbconvert_exporter": "python",
   "pygments_lexer": "ipython3",
   "version": "3.6.4"
  }
 },
 "nbformat": 4,
 "nbformat_minor": 2
}
